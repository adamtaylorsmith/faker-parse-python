{
 "cells": [
  {
   "cell_type": "code",
   "execution_count": 1,
   "metadata": {},
   "outputs": [
    {
     "name": "stdout",
     "output_type": "stream",
     "text": [
      "Alert - Flagged Log In Time - 00:14:38\n",
      "Alert - Flagged IP Address - 172.29.217.214\n"
     ]
    }
   ],
   "source": [
    "import_file = \"log_in_attempts.txt\"\n",
    "import re\n",
    "\n",
    "flagged_ip_address = \"172.29.217.214\"\n",
    "flagged_login_time = \"00:14:38\"\n",
    "pattern_ip_address = r'\\d+\\.\\d+\\.\\d+\\.\\d+'\n",
    "pattern_login_time = r'\\d+:\\d+:\\d+'\n",
    "\n",
    "with open(import_file, \"r\") as file:\n",
    "        data = file.read()\n",
    "\n",
    "login_times = re.findall(pattern_login_time, data)\n",
    "for time in login_times:\n",
    "    if flagged_login_time in time:\n",
    "        print('Alert - Flagged Log In Time -', time)    \n",
    "\n",
    "ip_addresses = re.findall(pattern_ip_address, data)\n",
    "for address in ip_addresses:\n",
    "    if flagged_ip_address == address:\n",
    "        print('Alert - Flagged IP Address -', address)    \n",
    "    # new_list.remove(element)\n"
   ]
  }
 ],
 "metadata": {
  "kernelspec": {
   "display_name": "Python 3",
   "language": "python",
   "name": "python3"
  },
  "language_info": {
   "codemirror_mode": {
    "name": "ipython",
    "version": 3
   },
   "file_extension": ".py",
   "mimetype": "text/x-python",
   "name": "python",
   "nbconvert_exporter": "python",
   "pygments_lexer": "ipython3",
   "version": "3.12.2"
  }
 },
 "nbformat": 4,
 "nbformat_minor": 2
}
