{
 "cells": [
  {
   "cell_type": "markdown",
   "metadata": {},
   "source": [
    "# machines"
   ]
  },
  {
   "cell_type": "code",
   "execution_count": 1,
   "metadata": {},
   "outputs": [],
   "source": [
    "from faker import Faker\n",
    "from faker.providers import DynamicProvider\n",
    "f = Faker()\n",
    "\n",
    "for i in range(20):\n",
    "\n",
    "    device = f.bothify(text=\"?###?###?###\", letters=\"qwertyuiopasdfghjklzxcvbnm\")\n",
    "\n",
    "    os = f.random_int(min=1, max=3) \n",
    "\n",
    "    e = f.random_int(min=1, max=2) \n",
    "\n",
    "    d = DynamicProvider(\n",
    "        provider_name=\"month\",\n",
    "        elements=[\"03\", \"06\", \"09\", \"12\"]\n",
    "    )\n",
    "    f.add_provider(d)    \n",
    "\n",
    "    r = f.random_int(min=1000, max=1199)\n",
    "\n",
    "    data_line = device + \" OS \" + str(os) + \" Email Client \" + str(e) + \" 2001-\" + f.month() + \"-01 \" + str(r) + \",\"\n",
    "    \n",
    "    import_file = \"machines.txt\"\n",
    "    with open(import_file, \"a\") as file:\n",
    "        file.write(data_line)\n"
   ]
  }
 ],
 "metadata": {
  "kernelspec": {
   "display_name": "Python 3",
   "language": "python",
   "name": "python3"
  },
  "language_info": {
   "codemirror_mode": {
    "name": "ipython",
    "version": 3
   },
   "file_extension": ".py",
   "mimetype": "text/x-python",
   "name": "python",
   "nbconvert_exporter": "python",
   "pygments_lexer": "ipython3",
   "version": "3.12.2"
  }
 },
 "nbformat": 4,
 "nbformat_minor": 2
}
