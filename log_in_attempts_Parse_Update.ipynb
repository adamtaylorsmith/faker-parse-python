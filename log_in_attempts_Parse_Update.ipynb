{
 "cells": [
  {
   "cell_type": "code",
   "execution_count": null,
   "metadata": {},
   "outputs": [],
   "source": [
    "import_file = \"log_in_attempts.txt\"\n",
    "flagged_login_date = \"1\"\n",
    "flagged_login_time = \"1\"\n",
    "with open(import_file, \"r\") as file:\n",
    "        data = file.read()\n",
    "\n",
    "my_list = data.split(',')\n",
    "# print(my_list)\n",
    "for e in my_list:\n",
    "    if flagged_login_date in e:\n",
    "        print('Alert - Flagged Login Date -', e)\n",
    "for f in my_list:\n",
    "    if flagged_login_time in f:\n",
    "        print('Alert - Flagged OS -', f)"
   ]
  }
 ],
 "metadata": {
  "language_info": {
   "name": "python"
  }
 },
 "nbformat": 4,
 "nbformat_minor": 2
}
