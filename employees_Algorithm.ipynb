{
 "cells": [
  {
   "cell_type": "markdown",
   "metadata": {},
   "source": [
    "# employees"
   ]
  },
  {
   "cell_type": "code",
   "execution_count": 1,
   "metadata": {},
   "outputs": [
    {
     "name": "stdout",
     "output_type": "stream",
     "text": [
      "1000 d497o867l070 asmith Marketing South-106\n",
      "1001 x140p564c767 dpark Finance South-463\n",
      "1002 v213b074s777 knelson Finance North-449\n",
      "1003 x422t892j235 amcdaniel Design North-329\n",
      "1004 t312p541k620 xhayes Sales South-290\n",
      "1005 f005e638s950 nmurphy Design West-141\n",
      "1006 f956w216h886 vrivera Sales East-421\n",
      "1007 d083y850k098 rrobertson Sales South-253\n",
      "1008 z365d298b802 mramirez Marketing South-349\n",
      "1009 a036s582n711 echarles Marketing South-273\n",
      "1010 e800q702s318 gwalker Internet Technology North-356\n",
      "1011 w172f099x023 hmayo Sales North-110\n",
      "1012 z379x431p234 dstewart Sales East-186\n",
      "1013 e292j787c246 mcampbell Human Resources East-369\n",
      "1014 f481c056x230 bstewart Finance South-491\n",
      "1015 k466a381t556 nharvey Sales South-314\n",
      "1016 i342w837p561 bknox Design North-426\n",
      "1017 a719c075x767 jdillon Sales East-163\n",
      "1018 h493c421m297 xrobinson Finance North-328\n",
      "1019 t670n845s174 boneill Sales South-402\n"
     ]
    }
   ],
   "source": [
    "from faker import Faker\n",
    "from faker.providers import DynamicProvider\n",
    "f = Faker()\n",
    "\n",
    "for i in range(20):\n",
    "\n",
    "    if len(str(i)) > 1:\n",
    "        id = \"10\" + str(i)\n",
    "    elif len(str(i)) < 2:\n",
    "        id = \"100\" + str(i)\n",
    "\n",
    "    device = f.bothify(text=\"?###?###?###\", letters=\"qwertyuiopasdfghjklzxcvbnm\")\n",
    "\n",
    "    l = f.bothify(text=\"?\", letters=\"QWERTYUIOPASDFGHJKLZXCVBNM\")\n",
    "    first_init = l.lower()\n",
    "    m = f.last_name()\n",
    "    last_name = m.lower()\n",
    "\n",
    "    c = DynamicProvider(\n",
    "        provider_name=\"department\",\n",
    "        elements=[\"Human Resources\", \"Internet Technology\", \"Finance\", \"Sales\", \"Marketing\",\"Design\"]\n",
    "    )\n",
    "    f.add_provider(c)\n",
    "\n",
    "    d = DynamicProvider(\n",
    "        provider_name=\"location\",\n",
    "        elements=[\"North\", \"East\", \"South\", \"West\"]\n",
    "    )\n",
    "    f.add_provider(d)\n",
    "\n",
    "    office = f.random_int(min=100, max=499) \n",
    "\n",
    "    print(id + \" \" + device + \" \" + first_init + last_name + \" \" + f.department()  + \" \" + f.location() + \"-\" + str(office))\n",
    "    "
   ]
  }
 ],
 "metadata": {
  "kernelspec": {
   "display_name": "Python 3",
   "language": "python",
   "name": "python3"
  },
  "language_info": {
   "codemirror_mode": {
    "name": "ipython",
    "version": 3
   },
   "file_extension": ".py",
   "mimetype": "text/x-python",
   "name": "python",
   "nbconvert_exporter": "python",
   "pygments_lexer": "ipython3",
   "version": "3.12.2"
  }
 },
 "nbformat": 4,
 "nbformat_minor": 2
}
