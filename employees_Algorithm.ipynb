{
 "cells": [
  {
   "cell_type": "markdown",
   "metadata": {},
   "source": [
    "# employees"
   ]
  },
  {
   "cell_type": "code",
   "execution_count": 2,
   "metadata": {},
   "outputs": [
    {
     "name": "stdout",
     "output_type": "stream",
     "text": [
      "1000 l334k130u105 shart Internet Technology West-213\n",
      "1001 q681f586p130 bharris Human Resources West-333\n",
      "1002 e623k185e155 xdavis Marketing West-257\n",
      "1003 y079q231q445 dmiller Sales North-482\n",
      "1004 s165h408j750 rjimenez Marketing North-405\n",
      "1005 m656r610m570 wwilliams Human Resources South-339\n",
      "1006 k402a061d108 pwright Marketing West-323\n",
      "1007 s078x318f073 abrennan Design North-268\n",
      "1008 g732f974s529 gbeasley Sales East-170\n",
      "1009 o483n545j727 xmyers Marketing North-340\n",
      "1010 o334y926f676 xcrawford Marketing North-184\n",
      "1011 f803c244h223 wlester Human Resources West-428\n",
      "1012 x166a723a185 xnelson Sales South-319\n",
      "1013 q349q402y409 ischultz Marketing West-239\n",
      "1014 v940a454w349 nortiz Finance East-389\n",
      "1015 l188w851m448 mcarson Design North-233\n",
      "1016 v246h100w996 tdecker Internet Technology South-237\n",
      "1017 s306g388u947 icarter Internet Technology East-326\n",
      "1018 y184e192q071 jnelson Design North-406\n",
      "1019 n032e492q517 eyates Sales East-225\n"
     ]
    }
   ],
   "source": [
    "from faker import Faker\n",
    "from faker.providers import DynamicProvider\n",
    "f = Faker()\n",
    "\n",
    "for i in range(20):\n",
    "\n",
    "    if len(str(i)) > 1:\n",
    "        id = \"10\" + str(i)\n",
    "    elif len(str(i)) < 2:\n",
    "        id = \"100\" + str(i)\n",
    "\n",
    "    device = f.bothify(text=\"?###?###?###\", letters=\"qwertyuiopasdfghjklzxcvbnm\")\n",
    "\n",
    "    l = f.bothify(text=\"?\", letters=\"QWERTYUIOPASDFGHJKLZXCVBNM\")\n",
    "    first_init = l.lower()\n",
    "    m = f.last_name()\n",
    "    last_name = m.lower()\n",
    "\n",
    "    c = DynamicProvider(\n",
    "        provider_name=\"department\",\n",
    "        elements=[\"Human Resources\", \"Internet Technology\", \"Finance\", \"Sales\", \"Marketing\",\"Design\"]\n",
    "    )\n",
    "    f.add_provider(c)\n",
    "\n",
    "    d = DynamicProvider(\n",
    "        provider_name=\"location\",\n",
    "        elements=[\"North\", \"East\", \"South\", \"West\"]\n",
    "    )\n",
    "    f.add_provider(d)\n",
    "\n",
    "    office = f.random_int(min=100, max=499) \n",
    "\n",
    "    data_line = id + \" \" + device + \" \" + first_init + last_name + \" \" + f.department()  + \" \" + f.location() + \"-\" + str(office) + \",\"\n",
    "    print(data_line)\n",
    "    \n",
    "    import_file = \"employees.txt\"\n",
    "    with open(import_file, \"a\") as file:\n",
    "        file.write(data_line)\n",
    "    "
   ]
  }
 ],
 "metadata": {
  "kernelspec": {
   "display_name": "Python 3",
   "language": "python",
   "name": "python3"
  },
  "language_info": {
   "codemirror_mode": {
    "name": "ipython",
    "version": 3
   },
   "file_extension": ".py",
   "mimetype": "text/x-python",
   "name": "python",
   "nbconvert_exporter": "python",
   "pygments_lexer": "ipython3",
   "version": "3.12.2"
  }
 },
 "nbformat": 4,
 "nbformat_minor": 2
}
