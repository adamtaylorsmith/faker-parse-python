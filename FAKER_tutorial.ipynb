{
 "cells": [
  {
   "cell_type": "markdown",
   "metadata": {},
   "source": [
    "### python log\n",
    "sql log  \n",
    "  firewall"
   ]
  },
  {
   "cell_type": "code",
   "execution_count": 1,
   "metadata": {},
   "outputs": [
    {
     "name": "stdout",
     "output_type": "stream",
     "text": [
      "Kenneth Willis\n",
      "22041 Wilson Springs\n",
      "Ballardfort, WV 55878\n",
      "192.168.132.164\n",
      "184.143.77.192\n",
      "Quality data mission serve home.\n",
      "56013\n",
      "or_IN\n",
      "242-928-1690\n"
     ]
    }
   ],
   "source": [
    "from faker import Faker\n",
    "f = Faker()\n",
    "print(f.name())\n",
    "print(f.address())\n",
    "print(f.ipv4_private())\n",
    "print(f.ipv4_public())\n",
    "print(f.sentence())\n",
    "print(f.zipcode())\n",
    "print(f.locale())\n",
    "print(f.phone_number())"
   ]
  },
  {
   "cell_type": "code",
   "execution_count": 8,
   "metadata": {},
   "outputs": [
    {
     "name": "stdout",
     "output_type": "stream",
     "text": [
      "4\n",
      "FGHL-547761-GL\n",
      "9\n",
      "GGFK-448871-SJ\n",
      "3\n",
      "DLJH-811393-GD\n",
      "10\n",
      "HLDG-596570-DJ\n",
      "7\n",
      "KJGS-353867-GK\n",
      "2\n",
      "FJDA-924112-LL\n",
      "6\n",
      "ALJL-189000-JF\n",
      "5\n",
      "GDJF-704371-SA\n",
      "1\n",
      "DHJD-961407-GG\n",
      "8\n",
      "DGLA-777106-KA\n"
     ]
    }
   ],
   "source": [
    "from faker import Faker\n",
    "f = Faker()\n",
    "for _ in range(10):\n",
    "    print(f.unique.random_int(min=1, max=10))\n",
    "    print(f.bothify(text=\"????-######-??\", letters=\"ASDFGHJKL\"))"
   ]
  },
  {
   "cell_type": "code",
   "execution_count": 15,
   "metadata": {},
   "outputs": [
    {
     "name": "stdout",
     "output_type": "stream",
     "text": [
      "9\n",
      "ID: KJFA-338278-AH\n",
      "MAC: E1:4A:31:28:E4:89\n",
      "7\n",
      "ID: GAKA-257907-KJ\n",
      "MAC: AA:6F:12:95:4A:FD\n",
      "3\n",
      "ID: ADFA-680794-JH\n",
      "MAC: B6:83:BF:B6:09:D5\n",
      "4\n",
      "ID: AHJD-899230-JA\n",
      "MAC: B3:4F:3E:6F:77:FA\n",
      "6\n",
      "ID: HFKG-921915-JL\n",
      "MAC: DA:E0:7D:9C:BF:B0\n"
     ]
    }
   ],
   "source": [
    "from faker import Faker\n",
    "f = Faker()\n",
    "for _ in range(5):\n",
    "    print(f.unique.random_int(min=1, max=10))\n",
    "    print(f.bothify(text=\"ID: ????-######-??\", letters=\"ASDFGHJKL\"))\n",
    "    print(f.hexify(text=\"MAC: ^^:^^:^^:^^:^^:^^\", upper=True))"
   ]
  },
  {
   "cell_type": "code",
   "execution_count": 10,
   "metadata": {},
   "outputs": [
    {
     "name": "stdout",
     "output_type": "stream",
     "text": [
      "Eileen\n",
      "SQL\n"
     ]
    }
   ],
   "source": [
    "import random\n",
    "from faker import Faker\n",
    "from faker.providers import BaseProvider, DynamicProvider\n",
    "f = Faker()\n",
    "class NeuralProvider(BaseProvider):\n",
    "    def family_category(self):\n",
    "        return random.choice([\"Amanda\", \"Bob\", \"Caroline\", \"Danielle\", \"Eileen\", \"Fredrick\"])\n",
    "f.add_provider(NeuralProvider)\n",
    "print(f.family_category())\n",
    "\n",
    "programming_lang_provider = DynamicProvider(\n",
    "    provider_name=\"programming_lang\",\n",
    "    elements=[\"Python\", \"Javascript\", \"Go\", \"C++\", \"SQL\",\"Ruby\"]\n",
    ")\n",
    "f.add_provider(programming_lang_provider)\n",
    "print(f.programming_lang())"
   ]
  }
 ],
 "metadata": {
  "kernelspec": {
   "display_name": "Python 3",
   "language": "python",
   "name": "python3"
  },
  "language_info": {
   "codemirror_mode": {
    "name": "ipython",
    "version": 3
   },
   "file_extension": ".py",
   "mimetype": "text/x-python",
   "name": "python",
   "nbconvert_exporter": "python",
   "pygments_lexer": "ipython3",
   "version": "3.12.2"
  }
 },
 "nbformat": 4,
 "nbformat_minor": 2
}
