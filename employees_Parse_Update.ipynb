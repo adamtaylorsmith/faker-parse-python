{
 "cells": [
  {
   "cell_type": "code",
   "execution_count": 24,
   "metadata": {},
   "outputs": [
    {
     "name": "stdout",
     "output_type": "stream",
     "text": [
      "Alert - Flagged Department - 1002 e623k185e155 xdavis Marketing South-257\n",
      "Alert - Flagged Department - 1007 s078x318f073 abrennan Marketing North-268\n",
      "Alert - Flagged Building - 1002 e623k185e155 xdavis Marketing South-257\n",
      "Alert - Flagged Building - 1005 m656r610m570 wwilliams Design South-339\n",
      "Alert - Flagged Building - 1006 k402a061d108 pwright Human Resources South-323\n",
      "Alert - Flagged Building - 1011 f803c244h223 wlester Design South-428\n"
     ]
    }
   ],
   "source": [
    "import_file = \"employees.txt\"\n",
    "flagged_department = \"Marketing\"\n",
    "flagged_building = \"South\"\n",
    "with open(import_file, \"r\") as file:\n",
    "        data = file.read()\n",
    "\n",
    "my_list = data.split(',')\n",
    "# print(my_list)\n",
    "for e in my_list:\n",
    "    if flagged_department in e:\n",
    "        print('Alert - Flagged Department -', e)\n",
    "for f in my_list:\n",
    "    if flagged_building in f:\n",
    "        print('Alert - Flagged Building -', f)"
   ]
  }
 ],
 "metadata": {
  "kernelspec": {
   "display_name": "Python 3",
   "language": "python",
   "name": "python3"
  },
  "language_info": {
   "codemirror_mode": {
    "name": "ipython",
    "version": 3
   },
   "file_extension": ".py",
   "mimetype": "text/x-python",
   "name": "python",
   "nbconvert_exporter": "python",
   "pygments_lexer": "ipython3",
   "version": "3.12.2"
  }
 },
 "nbformat": 4,
 "nbformat_minor": 2
}
