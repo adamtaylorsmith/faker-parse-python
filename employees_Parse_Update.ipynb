{
 "cells": [
  {
   "cell_type": "code",
   "execution_count": 7,
   "metadata": {},
   "outputs": [
    {
     "name": "stdout",
     "output_type": "stream",
     "text": [
      "1000 l334k130u105 shart Internet Technology North-213,1001 q681f586p130 bharris Sales North-333,1002 e623k185e155 xdavis Marketing South-257,1003 y079q231q445 dmiller Sales East-482,1004 s165h408j750 rjimenez Human Resources North-405,1005 m656r610m570 wwilliams Design South-339,1006 k402a061d108 pwright Human Resources South-323,1007 s078x318f073 abrennan Marketing North-268,1008 g732f974s529 gbeasley Finance East-170,1009 o483n545j727 xmyers Finance North-340,1010 o334y926f676 xcrawford Sales North-184,1011 f803c244h223 wlester Design South-428,1012 x166a723a185 xnelson Design West-319,1013 q349q402y409 ischultz Human Resources East-239,1014 v940a454w349 nortiz Human Resources North-389,1015 l188w851m448 mcarson Finance North-233,1016 v246h100w996 tdecker Finance West-237,1017 s306g388u947 icarter Internet Technology West-326,1018 y184e192q071 jnelson Finance West-406,1019 n032e492q517 eyates Sales East-225,\n",
      "['1000 l334k130u105 shart Internet Technology North-213', '1001 q681f586p130 bharris Sales North-333', '1002 e623k185e155 xdavis Marketing South-257', '1003 y079q231q445 dmiller Sales East-482', '1004 s165h408j750 rjimenez Human Resources North-405', '1005 m656r610m570 wwilliams Design South-339', '1006 k402a061d108 pwright Human Resources South-323', '1007 s078x318f073 abrennan Marketing North-268', '1008 g732f974s529 gbeasley Finance East-170', '1009 o483n545j727 xmyers Finance North-340', '1010 o334y926f676 xcrawford Sales North-184', '1011 f803c244h223 wlester Design South-428', '1012 x166a723a185 xnelson Design West-319', '1013 q349q402y409 ischultz Human Resources East-239', '1014 v940a454w349 nortiz Human Resources North-389', '1015 l188w851m448 mcarson Finance North-233', '1016 v246h100w996 tdecker Finance West-237', '1017 s306g388u947 icarter Internet Technology West-326', '1018 y184e192q071 jnelson Finance West-406', '1019 n032e492q517 eyates Sales East-225', '']\n",
      "1000 l334k130u105 shart Internet Technology North-213\n",
      "1001 q681f586p130 bharris Sales North-333\n",
      "1002 e623k185e155 xdavis Marketing South-257\n",
      "1003 y079q231q445 dmiller Sales East-482\n",
      "1004 s165h408j750 rjimenez Human Resources North-405\n",
      "1005 m656r610m570 wwilliams Design South-339\n",
      "1006 k402a061d108 pwright Human Resources South-323\n",
      "1007 s078x318f073 abrennan Marketing North-268\n",
      "1008 g732f974s529 gbeasley Finance East-170\n",
      "1009 o483n545j727 xmyers Finance North-340\n",
      "1010 o334y926f676 xcrawford Sales North-184\n",
      "1011 f803c244h223 wlester Design South-428\n",
      "1012 x166a723a185 xnelson Design West-319\n",
      "1013 q349q402y409 ischultz Human Resources East-239\n",
      "1014 v940a454w349 nortiz Human Resources North-389\n",
      "1015 l188w851m448 mcarson Finance North-233\n",
      "1016 v246h100w996 tdecker Finance West-237\n",
      "1017 s306g388u947 icarter Internet Technology West-326\n",
      "1018 y184e192q071 jnelson Finance West-406\n",
      "1019 n032e492q517 eyates Sales East-225\n",
      "\n"
     ]
    }
   ],
   "source": [
    "import_file = \"employees.txt\"\n",
    "with open(import_file, \"r\") as file:\n",
    "        data = file.read()\n",
    "print(data)\n",
    "\n",
    "my_list = data.split(',')\n",
    "print(my_list)\n",
    "\n",
    "for e in my_list:\n",
    "    # if e > 0:\n",
    "        print(e)\n"
   ]
  }
 ],
 "metadata": {
  "kernelspec": {
   "display_name": "Python 3",
   "language": "python",
   "name": "python3"
  },
  "language_info": {
   "codemirror_mode": {
    "name": "ipython",
    "version": 3
   },
   "file_extension": ".py",
   "mimetype": "text/x-python",
   "name": "python",
   "nbconvert_exporter": "python",
   "pygments_lexer": "ipython3",
   "version": "3.12.2"
  }
 },
 "nbformat": 4,
 "nbformat_minor": 2
}
