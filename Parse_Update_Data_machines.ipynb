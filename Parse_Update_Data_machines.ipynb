{
 "cells": [
  {
   "cell_type": "code",
   "execution_count": null,
   "metadata": {},
   "outputs": [],
   "source": [
    "import_file = \"machines.txt\"\n",
    "import re\n",
    "\n",
    "flagged_email_client = \"Email Client 1\"\n",
    "flagged_OS = \"OS 1\"\n",
    "pattern_email_client = r'\\d+'\n",
    "pattern__OS = r'\\d+'\n",
    "\n",
    "with open(import_file, \"r\") as file:\n",
    "    data = file.read()\n",
    "\n",
    "data.index()\n",
    "\n",
    "#   def flag_machines(import_file, remove_list):\n",
    "#     new_list = data.split()\n",
    "#     for element in new_list:\n",
    "# \t    if element in ip_addresses:\n",
    "# \t\t  new_list.remove(element)\n",
    "        \n",
    "#     new_list = “,”.join(new_list)\n",
    "        \n",
    "#     with open(import_file, ”w”) as file:\n",
    "# \t  file.write(new_list)\n",
    "\n",
    "#   update_file(\"allow_list.txt\", [\"192.168.25.60\", \"192.168.140.81\", \"192.168.203.198\"])\n",
    "\n",
    "my_list = data.split(',')\n",
    "\n",
    "for e in my_list:\n",
    "    if flagged_email_client in e:\n",
    "        print('Alert - Flagged Email Client -', e)\n",
    "\n",
    "for f in my_list:\n",
    "    if flagged_OS in f:\n",
    "        print('Alert - Flagged OS -', f)\n",
    "\n",
    "  \n"
   ]
  }
 ],
 "metadata": {
  "language_info": {
   "name": "python"
  }
 },
 "nbformat": 4,
 "nbformat_minor": 2
}
