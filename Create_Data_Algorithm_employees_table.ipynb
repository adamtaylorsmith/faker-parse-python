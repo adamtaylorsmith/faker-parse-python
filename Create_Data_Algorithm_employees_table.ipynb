{
 "cells": [
  {
   "cell_type": "markdown",
   "metadata": {},
   "source": [
    "# employees"
   ]
  },
  {
   "cell_type": "code",
   "execution_count": 1,
   "metadata": {},
   "outputs": [
    {
     "name": "stdout",
     "output_type": "stream",
     "text": [
      "1000 x667i250x050 olove Marketing East-404,\n",
      "1001 z341n741q139 kbrandt Internet Technology South-200,\n",
      "1002 t948r413m762 manderson Sales West-161,\n",
      "1003 r793y592s672 vbean Finance West-407,\n",
      "1004 p679b000e463 bcurtis Design East-104,\n",
      "1005 f477k625x299 amoreno Marketing West-331,\n",
      "1006 p705n183t795 ebarrett Marketing South-442,\n",
      "1007 r599d866z318 xstokes Internet Technology West-216,\n",
      "1008 c058e567k963 gbarnes Finance West-121,\n",
      "1009 o917c233w769 mjacobson Sales West-295,\n",
      "1010 f975e603b843 ocameron Marketing West-111,\n",
      "1011 h091z467x288 ccarroll Marketing South-249,\n",
      "1012 u601y517n399 trobinson Internet Technology North-387,\n",
      "1013 v347u708m574 fsmith Design East-427,\n",
      "1014 i387v397k263 tmccoy Human Resources North-149,\n",
      "1015 r083d001t564 iabbott Sales East-314,\n",
      "1016 l056f956a749 emartinez Human Resources South-269,\n",
      "1017 z327s726m233 abell Sales South-201,\n",
      "1018 f412r957y956 ftaylor Marketing West-282,\n",
      "1019 i806z421d976 mfranklin Finance South-499,\n"
     ]
    }
   ],
   "source": [
    "from faker import Faker\n",
    "from faker.providers import DynamicProvider\n",
    "f = Faker()\n",
    "\n",
    "for i in range(20):\n",
    "\n",
    "    if len(str(i)) > 1:\n",
    "        id = \"10\" + str(i)\n",
    "    elif len(str(i)) < 2:\n",
    "        id = \"100\" + str(i)\n",
    "\n",
    "    device = f.bothify(text=\"?###?###?###\", letters=\"qwertyuiopasdfghjklzxcvbnm\")\n",
    "\n",
    "    l = f.bothify(text=\"?\", letters=\"QWERTYUIOPASDFGHJKLZXCVBNM\")\n",
    "    first_init = l.lower()\n",
    "    m = f.last_name()\n",
    "    last_name = m.lower()\n",
    "\n",
    "    c = DynamicProvider(\n",
    "        provider_name=\"department\",\n",
    "        elements=[\"Human Resources\", \"Internet Technology\", \"Finance\", \"Sales\", \"Marketing\",\"Design\"]\n",
    "    )\n",
    "    f.add_provider(c)\n",
    "\n",
    "    d = DynamicProvider(\n",
    "        provider_name=\"location\",\n",
    "        elements=[\"North\", \"East\", \"South\", \"West\"]\n",
    "    )\n",
    "    f.add_provider(d)\n",
    "\n",
    "    office = f.random_int(min=100, max=499) \n",
    "\n",
    "    data_line = id + \" \" + device + \" \" + first_init + last_name + \" \" + f.department()  + \" \" + f.location() + \"-\" + str(office) + \",\"\n",
    "    print(data_line)\n",
    "    \n",
    "    import_file = \"employees.txt\"\n",
    "    with open(import_file, \"a\") as file:\n",
    "        file.write(data_line)\n",
    "    "
   ]
  }
 ],
 "metadata": {
  "kernelspec": {
   "display_name": "Python 3",
   "language": "python",
   "name": "python3"
  },
  "language_info": {
   "codemirror_mode": {
    "name": "ipython",
    "version": 3
   },
   "file_extension": ".py",
   "mimetype": "text/x-python",
   "name": "python",
   "nbconvert_exporter": "python",
   "pygments_lexer": "ipython3",
   "version": "3.12.2"
  }
 },
 "nbformat": 4,
 "nbformat_minor": 2
}
