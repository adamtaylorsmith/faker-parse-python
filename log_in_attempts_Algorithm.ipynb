{
 "cells": [
  {
   "cell_type": "markdown",
   "metadata": {},
   "source": [
    "# log_in_attempts"
   ]
  },
  {
   "cell_type": "code",
   "execution_count": 13,
   "metadata": {},
   "outputs": [
    {
     "name": "stdout",
     "output_type": "stream",
     "text": [
      "0 wwilson 2022-07-04 01:01:00 GER 10.51.109.169 0\n",
      "1 usmith 2022-12-20 16:55:22 CAN 192.168.100.133 0\n",
      "2 jshannon 2022-02-13 11:55:36 MEX 10.112.253.124 1\n",
      "3 tsmith 2022-12-27 09:32:19 PR 10.112.117.21 1\n",
      "4 dwalker 2022-03-15 22:33:51 UK 10.14.157.82 0\n",
      "5 xmcconnell 2022-07-18 17:19:25 UK 172.18.230.64 1\n",
      "6 zallen 2022-12-11 12:03:55 PR 172.16.170.84 0\n",
      "7 gjackson 2022-01-16 22:36:08 MEX 10.73.224.220 0\n",
      "8 klopez 2022-09-11 12:46:43 MEX 10.183.236.135 0\n",
      "9 nle 2022-08-05 23:11:14 MEX 10.138.87.43 0\n",
      "10 fhayes 2022-06-01 23:17:36 USA 172.27.240.2 0\n",
      "11 njarvis 2022-09-21 11:23:42 MEX 172.18.253.44 1\n",
      "12 ecollins 2022-01-04 05:00:11 CAN 192.168.170.156 0\n",
      "13 obrown 2022-07-13 16:57:47 PR 192.168.126.94 1\n",
      "14 zmartinez 2022-01-28 21:16:21 CAN 192.168.125.244 0\n",
      "15 tobrien 2022-05-10 06:29:22 GER 10.23.15.140 0\n",
      "16 nholt 2022-10-14 11:26:08 MEX 10.238.79.203 0\n",
      "17 xgrant 2022-11-17 23:02:51 CAN 192.168.159.104 1\n",
      "18 rwhite 2022-11-16 03:17:42 PR 192.168.70.44 0\n",
      "19 bkelly 2022-11-09 12:44:01 MEX 10.92.236.15 0\n"
     ]
    }
   ],
   "source": [
    "from faker import Faker\n",
    "from faker.providers import DynamicProvider\n",
    "f = Faker()\n",
    "\n",
    "for i in range(20):\n",
    "\n",
    "    l = f.bothify(text=\"?\", letters=\"QWERTYUIOPASDFGHJKLZXCVBNM\")\n",
    "    first_init = l.lower()\n",
    "    m = f.last_name()\n",
    "    last_name = m.lower()\n",
    "\n",
    "    mo = f.random_int(min=1, max=12) \n",
    "    d = f.random_int(min=1, max=28)\n",
    "\n",
    "    if len(str(mo)) < 2:\n",
    "        month = \"0\" + str(mo)\n",
    "    elif len(str(mo)) > 1:\n",
    "        month = str(mo)\n",
    "    if len(str(d)) < 2:\n",
    "        day = \"0\" + str(d)\n",
    "    elif len(str(d)) > 1:\n",
    "        day = str(d)      \n",
    "\n",
    "# \n",
    "# Let's start with an example of where I think you're coming from.\n",
    "    def add_to_x (x):\n",
    "        if x == 3:\n",
    "            x += 2\n",
    "        elif x == 4:\n",
    "            x += 4\n",
    "        elif x == 5:\n",
    "            x += 5\n",
    "        return x\n",
    "\n",
    "# Here's my alternative:\n",
    "    def add_to_x (x):\n",
    "        vals = { 3 : 5  ,  4 : 8  ,  5 : 10 }\n",
    "        return vals[x]\n",
    "# \n",
    "# \n",
    "\n",
    "    s = f.random_int(min=0, max=59)\n",
    "    if len(str(s)) < 2:\n",
    "        second = \"0\" + str(s)\n",
    "    elif len(str(s)) > 1:\n",
    "        second = str(s)\n",
    "\n",
    "    m = f.random_int(min=0, max=59)\n",
    "    if len(str(m)) < 2:\n",
    "        minute = \"0\" + str(m)\n",
    "    elif len(str(m)) > 1:\n",
    "        minute = str(m)\n",
    "\n",
    "    h = f.random_int(min=0, max=23)\n",
    "    if len(str(h)) < 2:\n",
    "        hour = \"0\" + str(h)\n",
    "    elif len(str(h)) > 1:\n",
    "        hour = str(h)\n",
    "\n",
    "    c = DynamicProvider(\n",
    "        provider_name=\"country\",\n",
    "        elements=[\"USA\", \"CAN\", \"UK\", \"MEX\", \"GER\",\"PR\"]\n",
    "    )\n",
    "    f.add_provider(c)\n",
    "\n",
    "    success = f.random_int(min=0, max=1)\n",
    "\n",
    "    print(str(i) + \" \" + first_init + last_name + \" \" + \"2022-\" + str(month) + \"-\" + str(day) + \" \" + str(hour) + \":\" + str(minute) + \":\" + str(second) + \" \" + f.country() + \" \" + f.ipv4_private() + \" \" + str(success))\n",
    "    \n"
   ]
  }
 ],
 "metadata": {
  "kernelspec": {
   "display_name": "Python 3",
   "language": "python",
   "name": "python3"
  },
  "language_info": {
   "codemirror_mode": {
    "name": "ipython",
    "version": 3
   },
   "file_extension": ".py",
   "mimetype": "text/x-python",
   "name": "python",
   "nbconvert_exporter": "python",
   "pygments_lexer": "ipython3",
   "version": "3.12.2"
  }
 },
 "nbformat": 4,
 "nbformat_minor": 2
}
