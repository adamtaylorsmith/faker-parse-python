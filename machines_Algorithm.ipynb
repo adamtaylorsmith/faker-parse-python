{
 "cells": [
  {
   "cell_type": "markdown",
   "metadata": {},
   "source": [
    "# machines"
   ]
  },
  {
   "cell_type": "code",
   "execution_count": 8,
   "metadata": {},
   "outputs": [
    {
     "name": "stdout",
     "output_type": "stream",
     "text": [
      "v549w773m476 OS 1 Email Client 1 2001-06-01 1049\n",
      "f015t197i921 OS 3 Email Client 2 2001-12-01 1110\n",
      "k112k171v835 OS 2 Email Client 2 2001-12-01 1033\n",
      "y243g150r446 OS 3 Email Client 1 2001-12-01 1123\n",
      "e653f188q533 OS 1 Email Client 2 2001-12-01 1090\n",
      "o671o790a806 OS 1 Email Client 2 2001-03-01 1171\n",
      "i158b475z572 OS 3 Email Client 1 2001-06-01 1170\n",
      "b466n830f563 OS 2 Email Client 1 2001-09-01 1195\n",
      "j964q797o653 OS 2 Email Client 1 2001-09-01 1145\n",
      "d952j780b402 OS 2 Email Client 2 2001-09-01 1158\n",
      "r127g844z516 OS 2 Email Client 2 2001-09-01 1010\n",
      "g923w165c589 OS 2 Email Client 2 2001-06-01 1036\n",
      "r229g669r299 OS 2 Email Client 2 2001-09-01 1192\n",
      "g255x571r244 OS 2 Email Client 1 2001-06-01 1055\n",
      "x693l657x700 OS 1 Email Client 2 2001-09-01 1012\n",
      "d111t750a546 OS 2 Email Client 2 2001-06-01 1160\n",
      "b367w672o081 OS 1 Email Client 1 2001-06-01 1141\n",
      "v429q073n514 OS 1 Email Client 1 2001-03-01 1025\n",
      "f270n838o525 OS 1 Email Client 1 2001-12-01 1185\n",
      "s879b343x838 OS 1 Email Client 1 2001-03-01 1062\n"
     ]
    }
   ],
   "source": [
    "from faker import Faker\n",
    "from faker.providers import DynamicProvider\n",
    "f = Faker()\n",
    "\n",
    "for i in range(20):\n",
    "\n",
    "    device = f.bothify(text=\"?###?###?###\", letters=\"qwertyuiopasdfghjklzxcvbnm\")\n",
    "\n",
    "    os = f.random_int(min=1, max=3) \n",
    "\n",
    "    e = f.random_int(min=1, max=2) \n",
    "\n",
    "    d = DynamicProvider(\n",
    "        provider_name=\"month\",\n",
    "        elements=[\"03\", \"06\", \"09\", \"12\"]\n",
    "    )\n",
    "    f.add_provider(d)    \n",
    "\n",
    "    r = f.random_int(min=1000, max=1199)\n",
    "\n",
    "    print(device + \" OS \" + str(os) + \" Email Client \" + str(e) + \" 2001-\" + f.month() + \"-01 \" + str(r))\n"
   ]
  }
 ],
 "metadata": {
  "kernelspec": {
   "display_name": "Python 3",
   "language": "python",
   "name": "python3"
  },
  "language_info": {
   "codemirror_mode": {
    "name": "ipython",
    "version": 3
   },
   "file_extension": ".py",
   "mimetype": "text/x-python",
   "name": "python",
   "nbconvert_exporter": "python",
   "pygments_lexer": "ipython3",
   "version": "3.12.2"
  }
 },
 "nbformat": 4,
 "nbformat_minor": 2
}
