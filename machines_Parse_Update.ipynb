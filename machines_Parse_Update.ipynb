{
 "cells": [
  {
   "cell_type": "code",
   "execution_count": null,
   "metadata": {},
   "outputs": [],
   "source": [
    "import_file = \"machines.txt\"\n",
    "import re\n",
    "\n",
    "flagged_email_client = \"1\"\n",
    "flagged_OS = \"1\"\n",
    "pattern_email_client = r'\\d+'\n",
    "pattern__OS = r'\\d+'\n",
    "\n",
    "with open(import_file, \"r\") as file:\n",
    "        data = file.read()\n",
    "\n",
    "my_list = data.split(',')\n",
    "\n",
    "for e in my_list:\n",
    "    if flagged_email_client in e:\n",
    "        print('Alert - Flagged Email Client -', e)\n",
    "for f in my_list:\n",
    "    if flagged_OS in f:\n",
    "        print('Alert - Flagged OS -', f)\n",
    "\n",
    "# login_times = re.findall(pattern_login_time, data)\n",
    "# for time in login_times:\n",
    "#     if flagged_login_time in time:\n",
    "#         print('Alert - Flagged Log In Time -', time)    \n",
    "\n",
    "# ip_addresses = re.findall(pattern_ip_address, data)\n",
    "# for address in ip_addresses:\n",
    "#     if flagged_ip_address in address:\n",
    "#         print('Alert - Flagged IP Address -', address)    \n"
   ]
  }
 ],
 "metadata": {
  "language_info": {
   "name": "python"
  }
 },
 "nbformat": 4,
 "nbformat_minor": 2
}
